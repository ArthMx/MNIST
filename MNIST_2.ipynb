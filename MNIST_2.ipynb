{
 "cells": [
  {
   "cell_type": "code",
   "execution_count": 1,
   "metadata": {
    "collapsed": true
   },
   "outputs": [],
   "source": [
    "import numpy as np\n",
    "import scipy.stats as stats\n",
    "import pandas as pd\n",
    "import matplotlib.pyplot as plt\n",
    "import seaborn as sns\n",
    "%matplotlib inline"
   ]
  },
  {
   "cell_type": "markdown",
   "metadata": {},
   "source": [
    "### visualization functions"
   ]
  },
  {
   "cell_type": "code",
   "execution_count": 2,
   "metadata": {
    "collapsed": true
   },
   "outputs": [],
   "source": [
    "def digit_plot(digit):\n",
    "    '''\n",
    "    Plot a single digit.\n",
    "    input : (1, 784) array\n",
    "    '''\n",
    "    digit_reshaped = digit.values.reshape(28,28)\n",
    "    \n",
    "    fig, ax = plt.subplots()\n",
    "    ax.imshow(digit_reshaped, cmap='gray_r')\n",
    "    ax.axis('off')\n",
    "    \n",
    "def multidigits_plot(digits, size=None, shape=None, secure=True):\n",
    "    '''\n",
    "    Plot n digits, max 100 digits if secure=True.\n",
    "    \n",
    "    Input : \n",
    "    - digits : dataframe of n digits or (n, 784) array.\n",
    "    - size : integer, or list or tuple of 2 integers, to set size of figure.\n",
    "    - shape : shape of the axes, then shape=size, except size is set to an integer.\n",
    "    - secure : if set to True, will raise an error if digits has more than 100 rows.\n",
    "    '''\n",
    "    n = len(digits)\n",
    "    if secure and n>100:\n",
    "        raise ValueError('Too much digits to plot, make sure there is maximum 100 digits to plot, or set secure to False')\n",
    "    \n",
    "    # find the number of rows x, and columns y, for the axes of the plot\n",
    "    if shape == None:\n",
    "        for i in range(1, n):\n",
    "            if (i*(i-1)) <= n:\n",
    "                x = i\n",
    "                y = i\n",
    "                if x*y >= n:\n",
    "                    break\n",
    "                x = i\n",
    "                y = i+1\n",
    "                if x*y >= n:\n",
    "                    break   \n",
    "    else:\n",
    "        x = shape[0]\n",
    "        y = shape[1]\n",
    "        if not isinstance(size, int):\n",
    "            size = shape\n",
    "    fig, ax = plt.subplots(x, y)\n",
    "    ratio = x/y\n",
    "    \n",
    "    # set figure size\n",
    "    if size==None:\n",
    "        size = 8\n",
    "        fig.set_size_inches(size/ratio, size*ratio)\n",
    "    if isinstance(size, int):\n",
    "        fig.set_size_inches(size/ratio, size*ratio)\n",
    "    if isinstance(size, (list, tuple)):\n",
    "        fig.set_size_inches(size[1], size[0])\n",
    "    \n",
    "    axes = ax.ravel()\n",
    "\n",
    "    # plot the digits if digits is dataframe\n",
    "    if isinstance(digits, pd.core.frame.DataFrame):\n",
    "        for ax, index in zip(axes, digits.index):\n",
    "            digit = digits.loc[index, :]\n",
    "            digit_reshaped = digit.values.reshape(28,28)\n",
    "            ax.imshow(digit_reshaped, cmap='gray_r')\n",
    "    \n",
    "    # plot the digits if digits is a 2D array\n",
    "    else:\n",
    "        for ax, digit in zip(axes, digits):\n",
    "            digit_reshaped = digit.values.reshape(28,28)\n",
    "            ax.imshow(digit_reshaped, cmap='gray_r')\n",
    "    \n",
    "    # hide axis\n",
    "    for ax in axes:\n",
    "        ax.axis('off')"
   ]
  },
  {
   "cell_type": "markdown",
   "metadata": {},
   "source": [
    "### Loading the data and preparing the test set"
   ]
  },
  {
   "cell_type": "code",
   "execution_count": 3,
   "metadata": {
    "collapsed": true
   },
   "outputs": [],
   "source": [
    "from sklearn.model_selection import train_test_split\n",
    "\n",
    "digits = pd.read_csv('Data/train.csv')\n",
    "\n",
    "X = digits.drop('label', axis=1)\n",
    "y = digits['label']\n",
    "\n",
    "X_train, X_test, y_train, y_test = train_test_split(X, y, test_size=0.2, random_state=42)"
   ]
  },
  {
   "cell_type": "markdown",
   "metadata": {},
   "source": [
    "### The distribution of digits in  the dataset.\n",
    "\n",
    "It's quite balanced, not a perfect 10% for every digits, but that's fine."
   ]
  },
  {
   "cell_type": "code",
   "execution_count": 4,
   "metadata": {},
   "outputs": [
    {
     "data": {
      "text/plain": [
       "1    11.15\n",
       "7    10.48\n",
       "3    10.36\n",
       "9     9.97\n",
       "2     9.95\n",
       "6     9.85\n",
       "0     9.84\n",
       "4     9.70\n",
       "8     9.67\n",
       "5     9.04\n",
       "Name: label, dtype: float64"
      ]
     },
     "execution_count": 4,
     "metadata": {},
     "output_type": "execute_result"
    }
   ],
   "source": [
    "y_count = y.value_counts()\n",
    "y_pct = y_count/len(y)*100\n",
    "y_pct.round(2)"
   ]
  },
  {
   "cell_type": "code",
   "execution_count": 5,
   "metadata": {
    "scrolled": false
   },
   "outputs": [
    {
     "data": {
      "image/png": "[encoded data removed]",
      "text/plain": [
       "<matplotlib.figure.Figure at 0x22424ae95c0>"
      ]
     },
     "metadata": {},
     "output_type": "display_data"
    }
   ],
   "source": [
    "digits = X_train.sample(25)\n",
    "multidigits_plot(digits)"
   ]
  },
  {
   "cell_type": "code",
   "execution_count": 6,
   "metadata": {},
   "outputs": [],
   "source": [
    "from sklearn.metrics import accuracy_score\n",
    "import time\n",
    "\n",
    "def multi_estimators_results(estimators, X_train, X_test, y_train, y_test):\n",
    "    '''\n",
    "    input : - estimators :list of estimators\n",
    "            - X_train, X_test, y_train, y_test : training and test set\n",
    "    output : tuple : results dataframe and list of estimators fitted\n",
    "    '''\n",
    "    cols= ['Train Accuracy Score', 'Test Accuracy Score', 'Fitting Time']\n",
    "    results_df = pd.DataFrame(columns=cols)\n",
    "\n",
    "    for estimator in estimators:\n",
    "        #get estimator name\n",
    "        estimator_name = estimator.__class__.__name__\n",
    "\n",
    "        # fit estimator and get time of fit\n",
    "        t0 = time.time()\n",
    "        estimator.fit(X_train, y_train)\n",
    "        t1 = time.time()\n",
    "        results_df.loc[estimator_name, 'Fitting Time'] = t1 - t0\n",
    "\n",
    "        # get train accuracy score\n",
    "        y_train_pred = estimator.predict(X_train)\n",
    "        train_score = accuracy_score(y_train, y_train_pred)\n",
    "        results_df.loc[estimator_name, 'Train Accuracy Score'] = train_score\n",
    "\n",
    "        # get Test accuracy score\n",
    "        y_test_pred = estimator.predict(X_test)\n",
    "        test_score = accuracy_score(y_test, y_test_pred)\n",
    "        results_df.loc[estimator_name, 'Test Accuracy Score'] = test_score\n",
    "\n",
    "    return results_df, estimators"
   ]
  },
  {
   "cell_type": "code",
   "execution_count": 7,
   "metadata": {},
   "outputs": [
    {
     "data": {
      "text/html": [
       "<div>\n",
       "<style>\n",
       "    .dataframe thead tr:only-child th {\n",
       "        text-align: right;\n",
       "    }\n",
       "\n",
       "    .dataframe thead th {\n",
       "        text-align: left;\n",
       "    }\n",
       "\n",
       "    .dataframe tbody tr th {\n",
       "        vertical-align: top;\n",
       "    }\n",
       "</style>\n",
       "<table border=\"1\" class=\"dataframe\">\n",
       "  <thead>\n",
       "    <tr style=\"text-align: right;\">\n",
       "      <th></th>\n",
       "      <th>Train Accuracy Score</th>\n",
       "      <th>Test Accuracy Score</th>\n",
       "      <th>Fitting Time</th>\n",
       "    </tr>\n",
       "  </thead>\n",
       "  <tbody>\n",
       "    <tr>\n",
       "      <th>LogisticRegression</th>\n",
       "      <td>0.984524</td>\n",
       "      <td>0.860119</td>\n",
       "      <td>6.06804</td>\n",
       "    </tr>\n",
       "    <tr>\n",
       "      <th>LinearSVC</th>\n",
       "      <td>0.969345</td>\n",
       "      <td>0.84381</td>\n",
       "      <td>3.50133</td>\n",
       "    </tr>\n",
       "    <tr>\n",
       "      <th>DecisionTreeClassifier</th>\n",
       "      <td>1</td>\n",
       "      <td>0.794167</td>\n",
       "      <td>0.975149</td>\n",
       "    </tr>\n",
       "    <tr>\n",
       "      <th>RandomForestClassifier</th>\n",
       "      <td>0.998958</td>\n",
       "      <td>0.898214</td>\n",
       "      <td>0.280687</td>\n",
       "    </tr>\n",
       "    <tr>\n",
       "      <th>ExtraTreesClassifier</th>\n",
       "      <td>1</td>\n",
       "      <td>0.911071</td>\n",
       "      <td>0.282188</td>\n",
       "    </tr>\n",
       "  </tbody>\n",
       "</table>\n",
       "</div>"
      ],
      "text/plain": [
       "                       Train Accuracy Score Test Accuracy Score Fitting Time\n",
       "LogisticRegression                 0.984524            0.860119      6.06804\n",
       "LinearSVC                          0.969345             0.84381      3.50133\n",
       "DecisionTreeClassifier                    1            0.794167     0.975149\n",
       "RandomForestClassifier             0.998958            0.898214     0.280687\n",
       "ExtraTreesClassifier                      1            0.911071     0.282188"
      ]
     },
     "execution_count": 7,
     "metadata": {},
     "output_type": "execute_result"
    }
   ],
   "source": [
    "from sklearn.neighbors import KNeighborsClassifier\n",
    "from sklearn.linear_model import LogisticRegression\n",
    "from sklearn.svm import SVC, LinearSVC\n",
    "from sklearn.tree import DecisionTreeClassifier\n",
    "from sklearn.ensemble import RandomForestClassifier, ExtraTreesClassifier, AdaBoostClassifier\n",
    "from xgboost import XGBClassifier\n",
    "\n",
    "estimators = [LogisticRegression(solver='lbfgs'),\n",
    "              LinearSVC(),\n",
    "              DecisionTreeClassifier(),\n",
    "              RandomForestClassifier(),\n",
    "              ExtraTreesClassifier()\n",
    "              ]\n",
    "\n",
    "# reduced training set, to get results quicker\n",
    "X_train_reduced = X_train.sample(frac=0.2)\n",
    "y_train_reduced = y_train.loc[X_train_reduced.index]\n",
    "\n",
    "results_df, estimators_fitted = multi_estimators_results(estimators, X_train_reduced, X_test, y_train_reduced, y_test)\n",
    "results_df"
   ]
  },
  {
   "cell_type": "markdown",
   "metadata": {},
   "source": [
    "We see a lot of overfitting for all classifiers. Optimizing the parameters for these classifiers is necessary to improve test accuracy.\n",
    "\n",
    "First, let's see what we get if we use the complete train set to fit our models."
   ]
  },
  {
   "cell_type": "code",
   "execution_count": 8,
   "metadata": {},
   "outputs": [
    {
     "data": {
      "text/html": [
       "<div>\n",
       "<style>\n",
       "    .dataframe thead tr:only-child th {\n",
       "        text-align: right;\n",
       "    }\n",
       "\n",
       "    .dataframe thead th {\n",
       "        text-align: left;\n",
       "    }\n",
       "\n",
       "    .dataframe tbody tr th {\n",
       "        vertical-align: top;\n",
       "    }\n",
       "</style>\n",
       "<table border=\"1\" class=\"dataframe\">\n",
       "  <thead>\n",
       "    <tr style=\"text-align: right;\">\n",
       "      <th></th>\n",
       "      <th>Train Accuracy Score</th>\n",
       "      <th>Test Accuracy Score</th>\n",
       "      <th>Fitting Time</th>\n",
       "    </tr>\n",
       "  </thead>\n",
       "  <tbody>\n",
       "    <tr>\n",
       "      <th>LogisticRegression</th>\n",
       "      <td>0.934286</td>\n",
       "      <td>0.908095</td>\n",
       "      <td>28.6146</td>\n",
       "    </tr>\n",
       "    <tr>\n",
       "      <th>LinearSVC</th>\n",
       "      <td>0.88</td>\n",
       "      <td>0.859405</td>\n",
       "      <td>65.6322</td>\n",
       "    </tr>\n",
       "    <tr>\n",
       "      <th>DecisionTreeClassifier</th>\n",
       "      <td>1</td>\n",
       "      <td>0.854881</td>\n",
       "      <td>7.3569</td>\n",
       "    </tr>\n",
       "    <tr>\n",
       "      <th>RandomForestClassifier</th>\n",
       "      <td>0.999077</td>\n",
       "      <td>0.93869</td>\n",
       "      <td>1.73415</td>\n",
       "    </tr>\n",
       "    <tr>\n",
       "      <th>ExtraTreesClassifier</th>\n",
       "      <td>1</td>\n",
       "      <td>0.944405</td>\n",
       "      <td>1.96131</td>\n",
       "    </tr>\n",
       "  </tbody>\n",
       "</table>\n",
       "</div>"
      ],
      "text/plain": [
       "                       Train Accuracy Score Test Accuracy Score Fitting Time\n",
       "LogisticRegression                 0.934286            0.908095      28.6146\n",
       "LinearSVC                              0.88            0.859405      65.6322\n",
       "DecisionTreeClassifier                    1            0.854881       7.3569\n",
       "RandomForestClassifier             0.999077             0.93869      1.73415\n",
       "ExtraTreesClassifier                      1            0.944405      1.96131"
      ]
     },
     "execution_count": 8,
     "metadata": {},
     "output_type": "execute_result"
    }
   ],
   "source": [
    "results_df, estimators_fitted = multi_estimators_results(estimators, X_train, X_test, y_train, y_test)\n",
    "results_df"
   ]
  },
  {
   "cell_type": "markdown",
   "metadata": {},
   "source": [
    "We still observe a lot of overfitting for all classifier, except LinearSVC and LogisticRegression. Now, we'll use Principal Components Analysis to reduce the number of features. It's very useful here because, as we can see it in the images of digits, there is a lot of pixels useless for the classifiers. "
   ]
  },
  {
   "cell_type": "code",
   "execution_count": null,
   "metadata": {
    "collapsed": true
   },
   "outputs": [],
   "source": []
  }
 ],
 "metadata": {
  "kernelspec": {
   "display_name": "Python [conda env:Anaconda3]",
   "language": "python",
   "name": "conda-env-Anaconda3-py"
  },
  "language_info": {
   "codemirror_mode": {
    "name": "ipython",
    "version": 3
   },
   "file_extension": ".py",
   "mimetype": "text/x-python",
   "name": "python",
   "nbconvert_exporter": "python",
   "pygments_lexer": "ipython3",
   "version": "3.6.3"
  }
 },
 "nbformat": 4,
 "nbformat_minor": 2
}
